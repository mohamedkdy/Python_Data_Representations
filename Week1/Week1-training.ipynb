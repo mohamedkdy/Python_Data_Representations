{
 "cells": [
  {
   "cell_type": "code",
   "execution_count": 4,
   "metadata": {},
   "outputs": [
    {
     "name": "stdout",
     "output_type": "stream",
     "text": [
      "It’s just a flesh wound\n",
      "It’s just a flesh wound\n",
      "It’s just a flesh wound\n",
      "It’s just a flesh wound\n"
     ]
    }
   ],
   "source": [
    "\"\"\"\n",
    "The provided template gives four possible defintions for the string It’s just a flesh wound in Python.\n",
    "Determine which definitions are incorrect and fix them.\n",
    "\"\"\"\n",
    "string1=(\"It’s just a flesh wound\")\n",
    "string2=(\"It’s just a flesh wound\")\n",
    "string3=(\"It’s just a flesh wound\")\n",
    "string4=(\"It’s just a flesh wound\")\n",
    "print(string1)\n",
    "print(string2)\n",
    "print(string3)\n",
    "print(string4)"
   ]
  },
  {
   "cell_type": "code",
   "execution_count": 8,
   "metadata": {},
   "outputs": [
    {
     "name": "stdout",
     "output_type": "stream",
     "text": [
      "It's just a flesh wound\n",
      "Id\n"
     ]
    }
   ],
   "source": [
    "\"\"\"\n",
    "Given a non-empty string example_string, write a Python expression that produces the two-character string formed\n",
    "by selecting the first and last characters of example_string\n",
    "\"\"\"\n",
    "string1 = \"It's just a flesh wound\"\n",
    "print(string1)\n",
    "\n",
    "solution_string = string1[0] + string1[-1] \n",
    "\n",
    "print(solution_string)\n"
   ]
  },
  {
   "cell_type": "code",
   "execution_count": 22,
   "metadata": {},
   "outputs": [
    {
     "name": "stdout",
     "output_type": "stream",
     "text": [
      "23\n",
      "t's just a flesh woun\n"
     ]
    }
   ],
   "source": [
    "\"\"\"\n",
    "Given a string example_string with at least two characters, write a Python expression\n",
    "using a string slice that selects all but the first and last characters in example_string.\n",
    "\"\"\"\n",
    "string1 = \"It's just a flesh wound\"\n",
    "\n",
    "total_string = len(string1)\n",
    "print(total_string)\n",
    "\n",
    "soultion_string = string1[1:22] \n",
    "print(soultion_string)"
   ]
  },
  {
   "cell_type": "code",
   "execution_count": 28,
   "metadata": {},
   "outputs": [
    {
     "name": "stdout",
     "output_type": "stream",
     "text": [
      "Total string : 23\n",
      "und It'\n"
     ]
    }
   ],
   "source": [
    "\"\"\"\n",
    "Given a string example_string with at least three characters,\n",
    "write a Python expression using two string slices that produces\n",
    "the string formed by selecting the first three characters and the last three characters in example_string.\n",
    "\"\"\"\n",
    "\n",
    "string1 = \"It's just a flesh wound\"\n",
    "\n",
    "total_string = len(string1)\n",
    "print(\"Total string :\",  total_string)\n",
    "\n",
    "soultion_string1 = string1[:3] \n",
    "soultion_string = string1[-3:]\n",
    "print(soultion_string, soultion_string1)"
   ]
  },
  {
   "cell_type": "code",
   "execution_count": 30,
   "metadata": {},
   "outputs": [
    {
     "name": "stdout",
     "output_type": "stream",
     "text": [
      "Hello\n",
      "Hello\n",
      "Hello\n",
      "Hello\n",
      "Hello\n",
      "Goodbye\n",
      "Goodbye\n",
      "Goodbye\n"
     ]
    }
   ],
   "source": [
    "\"\"\"\n",
    "Write a function echo(call, repeats) that takes a string call and an integer repeats and prints \n",
    "repeats copies of the string call to console, each on a separate line. Do not not use a loop for this problem.\n",
    "Instead, use string muplication and the new line character ’\\n’ \n",
    "\"\"\"\n",
    "\n",
    "def echo(call, repeats):\n",
    "    \"\"\"\n",
    "    Echo the string call to the console repeats number of time\n",
    "    Each echo should be on a separate line\n",
    "    \"\"\"\n",
    "    answer = call + ('\\n' + call) * (repeats - 1)\n",
    "    print(answer)\n",
    "\n",
    "# Tests\n",
    "echo(\"Hello\", 5)\n",
    "echo(\"Goodbye\", 3)"
   ]
  },
  {
   "cell_type": "code",
   "execution_count": 38,
   "metadata": {},
   "outputs": [
    {
     "name": "stdout",
     "output_type": "stream",
     "text": [
      "l\n"
     ]
    }
   ],
   "source": [
    "stri = \"Grail\"\n",
    "strid = (stri[-1])\n",
    "print(strid)"
   ]
  },
  {
   "cell_type": "code",
   "execution_count": 42,
   "metadata": {},
   "outputs": [
    {
     "name": "stdout",
     "output_type": "stream",
     "text": [
      "og\n"
     ]
    }
   ],
   "source": [
    "stri = \"pigdog\"\n",
    "strid = stri[4:]\n",
    "print(strid)"
   ]
  },
  {
   "cell_type": "code",
   "execution_count": 43,
   "metadata": {},
   "outputs": [
    {
     "name": "stdout",
     "output_type": "stream",
     "text": [
      "17\n",
      "13\n"
     ]
    }
   ],
   "source": [
    "def count_vowels(word):\n",
    "    a_counts = word.count('a')\n",
    "    e_counts = word.count('e')\n",
    "    i_counts = word.count('i')\n",
    "    o_counts = word.count('o')\n",
    "    u_counts = word.count('u')\n",
    "\n",
    "    return a_counts + e_counts + i_counts + o_counts + u_counts\n",
    "\n",
    "print(count_vowels(\"aovvouOucvicIIOveeOIclOeuvvauouuvciOIsle\"))\n",
    "print(count_vowels(\"aaassseefffgggiiijjjoOOkkkuuuu\"))"
   ]
  },
  {
   "cell_type": "code",
   "execution_count": 44,
   "metadata": {},
   "outputs": [
    {
     "name": "stdout",
     "output_type": "stream",
     "text": [
      "aaabbbabababbbbaaa\n",
      "bbbababbabbaaabaaabaaabbbbbaabbabaababbb\n"
     ]
    }
   ],
   "source": [
    "def demystify(l1_string): \n",
    "    l1_string=l1_string.replace('l','a')\n",
    "    l1_string=l1_string.replace('1','b')\n",
    "    return l1_string\n",
    "   \n",
    "print(demystify(\"lll111l1l1l1111lll\"))\n",
    "print(demystify(\"111l1l11l11lll1lll1lll11111ll11l1ll1l111\"))"
   ]
  },
  {
   "cell_type": "code",
   "execution_count": 46,
   "metadata": {},
   "outputs": [
    {
     "ename": "NameError",
     "evalue": "name 'sub' is not defined",
     "output_type": "error",
     "traceback": [
      "\u001b[1;31m---------------------------------------------------------------------------\u001b[0m",
      "\u001b[1;31mNameError\u001b[0m                                 Traceback (most recent call last)",
      "\u001b[1;32m<ipython-input-46-6e98e7a3a57d>\u001b[0m in \u001b[0;36m<module>\u001b[1;34m\u001b[0m\n\u001b[0;32m      1\u001b[0m \u001b[0ma_str\u001b[0m \u001b[1;33m=\u001b[0m \u001b[1;34m\"fsgjdsmkfds\"\u001b[0m\u001b[1;33m\u001b[0m\u001b[1;33m\u001b[0m\u001b[0m\n\u001b[1;32m----> 2\u001b[1;33m \u001b[0ma_str\u001b[0m\u001b[1;33m.\u001b[0m\u001b[0mfind\u001b[0m\u001b[1;33m(\u001b[0m\u001b[0msub\u001b[0m\u001b[1;33m)\u001b[0m\u001b[1;33m\u001b[0m\u001b[1;33m\u001b[0m\u001b[0m\n\u001b[0m\u001b[0;32m      3\u001b[0m \u001b[0mprint\u001b[0m\u001b[1;33m(\u001b[0m\u001b[0ma_str\u001b[0m\u001b[1;33m)\u001b[0m\u001b[1;33m\u001b[0m\u001b[1;33m\u001b[0m\u001b[0m\n",
      "\u001b[1;31mNameError\u001b[0m: name 'sub' is not defined"
     ]
    }
   ],
   "source": [
    "a_str = \"fsgjdsmkfds\"\n",
    "\n",
    "a_str.find(sub)\n",
    "print(a_str)"
   ]
  },
  {
   "cell_type": "code",
   "execution_count": 47,
   "metadata": {},
   "outputs": [
    {
     "ename": "IndexError",
     "evalue": "tuple index out of range",
     "output_type": "error",
     "traceback": [
      "\u001b[1;31m---------------------------------------------------------------------------\u001b[0m",
      "\u001b[1;31mIndexError\u001b[0m                                Traceback (most recent call last)",
      "\u001b[1;32m<ipython-input-47-1075caf5cffd>\u001b[0m in \u001b[0;36m<module>\u001b[1;34m\u001b[0m\n\u001b[0;32m      1\u001b[0m \u001b[0mstring1\u001b[0m \u001b[1;33m=\u001b[0m \u001b[1;34m\"abracadabra\"\u001b[0m\u001b[1;33m\u001b[0m\u001b[1;33m\u001b[0m\u001b[0m\n\u001b[1;32m----> 2\u001b[1;33m \u001b[0msentence\u001b[0m \u001b[1;33m=\u001b[0m \u001b[1;34m\"{1}{2}{3}\"\u001b[0m\u001b[1;33m.\u001b[0m\u001b[0mformat\u001b[0m\u001b[1;33m(\u001b[0m\u001b[1;34m\"abra\"\u001b[0m\u001b[1;33m,\u001b[0m \u001b[1;34m\"cad\"\u001b[0m\u001b[1;33m,\u001b[0m \u001b[1;34m\"abra\"\u001b[0m\u001b[1;33m)\u001b[0m\u001b[1;33m\u001b[0m\u001b[1;33m\u001b[0m\u001b[0m\n\u001b[0m\u001b[0;32m      3\u001b[0m \u001b[0mprint\u001b[0m\u001b[1;33m(\u001b[0m\u001b[0msentence\u001b[0m\u001b[1;33m)\u001b[0m\u001b[1;33m\u001b[0m\u001b[1;33m\u001b[0m\u001b[0m\n",
      "\u001b[1;31mIndexError\u001b[0m: tuple index out of range"
     ]
    }
   ],
   "source": [
    "string1 = \"abracadabra\"\n",
    "sentence = \"{1}{2}{3}\".format(\"abra\", \"cad\", \"abra\")\n",
    "print(sentence)"
   ]
  },
  {
   "cell_type": "code",
   "execution_count": 48,
   "metadata": {},
   "outputs": [
    {
     "name": "stdout",
     "output_type": "stream",
     "text": [
      "abracadabra\n"
     ]
    }
   ],
   "source": [
    "string1 = \"abracadabra\"\n",
    "sentence = \"{}{}{}\".format(\"abra\", \"cad\", \"abra\")\n",
    "print(sentence)"
   ]
  },
  {
   "cell_type": "code",
   "execution_count": 49,
   "metadata": {},
   "outputs": [
    {
     "name": "stdout",
     "output_type": "stream",
     "text": [
      "abraabraabra\n"
     ]
    }
   ],
   "source": [
    "string1 = \"abracadabra\"\n",
    "sentence = \"{0}{0}{0}\".format(\"abra\", \"cad\", \"abra\")\n",
    "print(sentence)"
   ]
  },
  {
   "cell_type": "code",
   "execution_count": 50,
   "metadata": {},
   "outputs": [
    {
     "name": "stdout",
     "output_type": "stream",
     "text": [
      "abracadabra\n"
     ]
    }
   ],
   "source": [
    "string1 = \"abracadabra\"\n",
    "sentence = \"{0}{1}{0}\".format(\"abra\", \"cad\")\n",
    "print(sentence)\n"
   ]
  },
  {
   "cell_type": "code",
   "execution_count": 52,
   "metadata": {},
   "outputs": [
    {
     "name": "stdout",
     "output_type": "stream",
     "text": [
      "nthrax\n",
      "=====\n",
      "nthrax\n",
      "=====\n",
      "Anthrax\n",
      "=====\n",
      "Anthrax\n",
      "=====\n"
     ]
    }
   ],
   "source": [
    "#\"Anthrax\" \n",
    "stri = \"Castle Anthrax\"\n",
    "strid = (stri[8:])\n",
    "print(strid)\n",
    "print(\"=====\")\n",
    "\n",
    "\n",
    "stri = \"Castle Anthrax\"\n",
    "strid = (stri[8:15])\n",
    "print(strid)\n",
    "print(\"=====\")\n",
    "\n",
    "\n",
    "stri = \"Castle Anthrax\"\n",
    "strid = (stri[7:15])\n",
    "print(strid)\n",
    "print(\"=====\")\n",
    "\n",
    "\n",
    "stri = \"Castle Anthrax\"\n",
    "strid = (stri[7:])\n",
    "print(strid)\n",
    "print(\"=====\")"
   ]
  },
  {
   "cell_type": "code",
   "execution_count": 55,
   "metadata": {},
   "outputs": [
    {
     "name": "stdout",
     "output_type": "stream",
     "text": [
      "cadcadcad\n"
     ]
    }
   ],
   "source": [
    "string1 = \"abracadabra\"\n",
    "sentence = \"{1}{1}{1}\".format(\"abra\", \"cad\", \"abra\")\n",
    "print(sentence)"
   ]
  },
  {
   "cell_type": "code",
   "execution_count": 57,
   "metadata": {},
   "outputs": [
    {
     "name": "stdout",
     "output_type": "stream",
     "text": [
      "abracadabra\n"
     ]
    }
   ],
   "source": [
    "string1 = \"abracadabra\"\n",
    "sentence =\"{2}{1}{0}\".format(\"abra\", \"cad\", \"abra\")\n",
    "print(sentence)\n"
   ]
  },
  {
   "cell_type": "code",
   "execution_count": 59,
   "metadata": {},
   "outputs": [
    {
     "ename": "IndexError",
     "evalue": "tuple index out of range",
     "output_type": "error",
     "traceback": [
      "\u001b[1;31m---------------------------------------------------------------------------\u001b[0m",
      "\u001b[1;31mIndexError\u001b[0m                                Traceback (most recent call last)",
      "\u001b[1;32m<ipython-input-59-288f6532c44e>\u001b[0m in \u001b[0;36m<module>\u001b[1;34m\u001b[0m\n\u001b[0;32m      1\u001b[0m \u001b[0mstring1\u001b[0m \u001b[1;33m=\u001b[0m \u001b[1;34m\"abracadabra\"\u001b[0m\u001b[1;33m\u001b[0m\u001b[1;33m\u001b[0m\u001b[0m\n\u001b[1;32m----> 2\u001b[1;33m \u001b[0msentence\u001b[0m \u001b[1;33m=\u001b[0m\u001b[1;34m\"{0}{1}{2}\"\u001b[0m\u001b[1;33m.\u001b[0m\u001b[0mformat\u001b[0m\u001b[1;33m(\u001b[0m\u001b[1;34m\"abra\"\u001b[0m\u001b[1;33m,\u001b[0m\u001b[1;34m\"cad\"\u001b[0m\u001b[1;33m)\u001b[0m\u001b[1;33m\u001b[0m\u001b[1;33m\u001b[0m\u001b[0m\n\u001b[0m\u001b[0;32m      3\u001b[0m \u001b[0mprint\u001b[0m\u001b[1;33m(\u001b[0m\u001b[0msentence\u001b[0m\u001b[1;33m)\u001b[0m\u001b[1;33m\u001b[0m\u001b[1;33m\u001b[0m\u001b[0m\n\u001b[0;32m      4\u001b[0m \u001b[1;33m\u001b[0m\u001b[0m\n",
      "\u001b[1;31mIndexError\u001b[0m: tuple index out of range"
     ]
    }
   ],
   "source": [
    "string1 = \"abracadabra\"\n",
    "sentence =\"{0}{1}{2}\".format(\"abra\",\"cad\")\n",
    "print(sentence)\n",
    "\n"
   ]
  },
  {
   "cell_type": "code",
   "execution_count": null,
   "metadata": {},
   "outputs": [],
   "source": []
  }
 ],
 "metadata": {
  "kernelspec": {
   "display_name": "Python 3",
   "language": "python",
   "name": "python3"
  },
  "language_info": {
   "codemirror_mode": {
    "name": "ipython",
    "version": 3
   },
   "file_extension": ".py",
   "mimetype": "text/x-python",
   "name": "python",
   "nbconvert_exporter": "python",
   "pygments_lexer": "ipython3",
   "version": "3.7.3"
  }
 },
 "nbformat": 4,
 "nbformat_minor": 2
}
